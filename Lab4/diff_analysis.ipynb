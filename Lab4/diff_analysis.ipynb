{
 "cells": [
  {
   "cell_type": "code",
   "execution_count": 12,
   "id": "e699451f",
   "metadata": {},
   "outputs": [],
   "source": [
    "from pydriller import Repository\n",
    "import subprocess\n",
    "import csv\n",
    "import os\n"
   ]
  },
  {
   "cell_type": "markdown",
   "id": "579b545d",
   "metadata": {},
   "source": [
    "part c"
   ]
  },
  {
   "cell_type": "code",
   "execution_count": null,
   "id": "e6d2a15c",
   "metadata": {},
   "outputs": [
    {
     "name": "stdout",
     "output_type": "stream",
     "text": [
      "Processing repository: django-imagekit\n",
      "0\n",
      "100\n",
      "200\n",
      "300\n",
      "400\n",
      "500\n",
      "600\n",
      "700\n",
      "800\n",
      "900\n",
      "1000\n",
      "1100\n",
      "Processing repository: deep-learning-for-image-processing\n",
      "0\n",
      "100\n",
      "200\n",
      "300\n",
      "400\n",
      "500\n",
      "600\n",
      "700\n",
      "800\n",
      "900\n",
      "1000\n",
      "1100\n",
      "1200\n",
      "1300\n",
      "Processing repository: pyimagej\n",
      "0\n",
      "100\n",
      "200\n",
      "300\n",
      "400\n",
      "500\n",
      "600\n",
      "700\n",
      "800\n",
      "900\n",
      "1000\n",
      "1100\n",
      "1200\n"
     ]
    }
   ],
   "source": [
    "\n",
    "repos = [\n",
    "    r\"django-imagekit\",\n",
    "    r\"deep-learning-for-image-processing\",\n",
    "    r\"pyimagej\"\n",
    "]\n",
    "output_file = \"lab4_diff_dataset.csv\"\n",
    "with open(output_file, \"w\", newline=\"\", encoding=\"utf-8\") as f:\n",
    "    writer = csv.writer(f)\n",
    "    writer.writerow([\n",
    "        \"repo\",\n",
    "        \"old_file_path\",\n",
    "        \"new_file_path\",\n",
    "        \"commit_sha\",\n",
    "        \"parent_commit_sha\",\n",
    "        \"commit_message\",\n",
    "        \"diff_myers\",\n",
    "        \"diff_hist\"\n",
    "    ])\n",
    "\n",
    "\n",
    "def run_git_diff(repo_path, commit, parent, algo):\n",
    "    \"\"\"\n",
    "    Runs git diff with the given algorithm (myers or histogram).\n",
    "    \"\"\"\n",
    "    try:\n",
    "        diff_output = subprocess.check_output(\n",
    "            [\"git\", \"-C\", repo_path, \"diff\", parent, commit, f\"--diff-algorithm={algo}\", \"-w\", \"--ignore-blank-lines\"],\n",
    "            stderr=subprocess.DEVNULL,\n",
    "            text=True,\n",
    "            encoding=\"utf-8\",\n",
    "            errors=\"ignore\"\n",
    "        )\n",
    "        return diff_output\n",
    "    except subprocess.CalledProcessError:\n",
    "        return \"\"\n",
    "\n",
    "\n",
    "for repo_path in repos:\n",
    "    print(f\"Processing repository: {repo_path}\")\n",
    "    i=0\n",
    "    for commit in Repository(repo_path).traverse_commits():\n",
    "        if i%100==0:\n",
    "            print(i)\n",
    "        i+=1\n",
    "        for mod in commit.modified_files:\n",
    "            # Skip if file paths are None (e.g., file deletions/renames)\n",
    "            old_path = mod.old_path if mod.old_path else \"\"\n",
    "            new_path = mod.new_path if mod.new_path else \"\"\n",
    "            \n",
    "            # Get parent commit\n",
    "            if not commit.parents:\n",
    "                continue  # skip root commits\n",
    "            parent = commit.parents[0]\n",
    "\n",
    "            # Run git diff with Myers and Histogram\n",
    "            diff_myers = run_git_diff(repo_path, commit.hash, parent, \"myers\")\n",
    "            diff_hist = run_git_diff(repo_path, commit.hash, parent, \"histogram\")\n",
    "\n",
    "            # Write row into CSV\n",
    "            with open(output_file, \"a\", newline=\"\", encoding=\"utf-8\") as f:\n",
    "                writer = csv.writer(f)\n",
    "                writer.writerow([\n",
    "                    os.path.basename(repo_path),\n",
    "                    old_path,\n",
    "                    new_path,\n",
    "                    commit.hash,\n",
    "                    parent,\n",
    "                    commit.msg.strip(),\n",
    "                    diff_myers,\n",
    "                    diff_hist\n",
    "                ])\n"
   ]
  },
  {
   "cell_type": "markdown",
   "id": "f9d95b48",
   "metadata": {},
   "source": [
    "part d\n"
   ]
  },
  {
   "cell_type": "code",
   "execution_count": 14,
   "id": "6930cae3",
   "metadata": {},
   "outputs": [
    {
     "name": "stdout",
     "output_type": "stream",
     "text": [
      "Updated dataset with discrepancy column saved to lab4_diff_dataset_with_discrepancy.csv\n"
     ]
    }
   ],
   "source": [
    "import pandas as pd\n",
    "\n",
    "input_file = \"lab4_diff_dataset.csv\"\n",
    "output_file = \"lab4_diff_dataset_with_discrepancy.csv\"\n",
    "\n",
    "df = pd.read_csv(input_file)\n",
    "\n",
    "df[\"Discrepancy\"] = df.apply(\n",
    "    lambda row: \"Yes\" if str(row[\"diff_myers\"]).strip() != str(row[\"diff_hist\"]).strip() else \"No\",\n",
    "    axis=1\n",
    ")\n",
    "\n",
    "df.to_csv(output_file, index=False)\n",
    "print(f\"Updated dataset with discrepancy column saved to {output_file}\")\n"
   ]
  },
  {
   "cell_type": "code",
   "execution_count": null,
   "id": "c6927716",
   "metadata": {},
   "outputs": [
    {
     "name": "stdout",
     "output_type": "stream",
     "text": [
      "Total rows: 6203\n",
      "Discrepancies: 661\n",
      "Percentage discrepancy: 10.66%\n"
     ]
    }
   ],
   "source": [
    "\n",
    "total_rows = len(df)\n",
    "discrepancies = (df[\"Discrepancy\"] == \"Yes\").sum()\n",
    "\n",
    "# Percentage discrepancy\n",
    "if total_rows > 0:\n",
    "    percent_discrepancy = (discrepancies / total_rows) * 100\n",
    "else:\n",
    "    percent_discrepancy = 0\n",
    "\n",
    "print(f\"Total rows: {total_rows}\")\n",
    "print(f\"Discrepancies: {discrepancies}\")\n",
    "print(f\"Percentage discrepancy: {percent_discrepancy:.2f}%\")\n"
   ]
  },
  {
   "cell_type": "code",
   "execution_count": 11,
   "id": "fa7096d1",
   "metadata": {},
   "outputs": [
    {
     "data": {
      "text/html": [
       "<div>\n",
       "<style scoped>\n",
       "    .dataframe tbody tr th:only-of-type {\n",
       "        vertical-align: middle;\n",
       "    }\n",
       "\n",
       "    .dataframe tbody tr th {\n",
       "        vertical-align: top;\n",
       "    }\n",
       "\n",
       "    .dataframe thead th {\n",
       "        text-align: right;\n",
       "    }\n",
       "</style>\n",
       "<table border=\"1\" class=\"dataframe\">\n",
       "  <thead>\n",
       "    <tr style=\"text-align: right;\">\n",
       "      <th></th>\n",
       "      <th>repo</th>\n",
       "      <th>old_file_path</th>\n",
       "      <th>new_file_path</th>\n",
       "      <th>commit_sha</th>\n",
       "      <th>parent_commit_sha</th>\n",
       "      <th>commit_message</th>\n",
       "      <th>diff_myers</th>\n",
       "      <th>diff_hist</th>\n",
       "      <th>Discrepancy</th>\n",
       "    </tr>\n",
       "  </thead>\n",
       "  <tbody>\n",
       "    <tr>\n",
       "      <th>0</th>\n",
       "      <td>django-imagekit</td>\n",
       "      <td>src/imagekit/models.py</td>\n",
       "      <td>src/imagekit/models.py</td>\n",
       "      <td>37b8b5355f1b85a939ea789ef0b8316776766376</td>\n",
       "      <td>5b069cc289f11fd82c9e7e47d7659875b3e373c9</td>\n",
       "      <td>Updated models.py</td>\n",
       "      <td>diff --git a/src/imagekit/models.py b/src/imag...</td>\n",
       "      <td>diff --git a/src/imagekit/models.py b/src/imag...</td>\n",
       "      <td>No</td>\n",
       "    </tr>\n",
       "    <tr>\n",
       "      <th>1</th>\n",
       "      <td>django-imagekit</td>\n",
       "      <td>src/imagekit/models.py</td>\n",
       "      <td>src/imagekit/models.py</td>\n",
       "      <td>0a3f964d180f9f8435451f68a0922b6e198ace9f</td>\n",
       "      <td>37b8b5355f1b85a939ea789ef0b8316776766376</td>\n",
       "      <td>Added test.py</td>\n",
       "      <td>diff --git a/src/imagekit/models.py b/src/imag...</td>\n",
       "      <td>diff --git a/src/imagekit/models.py b/src/imag...</td>\n",
       "      <td>Yes</td>\n",
       "    </tr>\n",
       "    <tr>\n",
       "      <th>2</th>\n",
       "      <td>django-imagekit</td>\n",
       "      <td>NaN</td>\n",
       "      <td>src/imagekit/tests.py</td>\n",
       "      <td>0a3f964d180f9f8435451f68a0922b6e198ace9f</td>\n",
       "      <td>37b8b5355f1b85a939ea789ef0b8316776766376</td>\n",
       "      <td>Added test.py</td>\n",
       "      <td>diff --git a/src/imagekit/models.py b/src/imag...</td>\n",
       "      <td>diff --git a/src/imagekit/models.py b/src/imag...</td>\n",
       "      <td>Yes</td>\n",
       "    </tr>\n",
       "    <tr>\n",
       "      <th>3</th>\n",
       "      <td>django-imagekit</td>\n",
       "      <td>src/imagekit/models.py</td>\n",
       "      <td>src/imagekit/models.py</td>\n",
       "      <td>78dfae2daed97967c74b93ba8528b222063fd52f</td>\n",
       "      <td>0a3f964d180f9f8435451f68a0922b6e198ace9f</td>\n",
       "      <td>Added Metaclass</td>\n",
       "      <td>diff --git a/src/imagekit/models.py b/src/imag...</td>\n",
       "      <td>diff --git a/src/imagekit/models.py b/src/imag...</td>\n",
       "      <td>No</td>\n",
       "    </tr>\n",
       "    <tr>\n",
       "      <th>4</th>\n",
       "      <td>django-imagekit</td>\n",
       "      <td>src/imagekit/tests.py</td>\n",
       "      <td>src/imagekit/tests.py</td>\n",
       "      <td>78dfae2daed97967c74b93ba8528b222063fd52f</td>\n",
       "      <td>0a3f964d180f9f8435451f68a0922b6e198ace9f</td>\n",
       "      <td>Added Metaclass</td>\n",
       "      <td>diff --git a/src/imagekit/models.py b/src/imag...</td>\n",
       "      <td>diff --git a/src/imagekit/models.py b/src/imag...</td>\n",
       "      <td>No</td>\n",
       "    </tr>\n",
       "  </tbody>\n",
       "</table>\n",
       "</div>"
      ],
      "text/plain": [
       "              repo           old_file_path           new_file_path  \\\n",
       "0  django-imagekit  src/imagekit/models.py  src/imagekit/models.py   \n",
       "1  django-imagekit  src/imagekit/models.py  src/imagekit/models.py   \n",
       "2  django-imagekit                     NaN   src/imagekit/tests.py   \n",
       "3  django-imagekit  src/imagekit/models.py  src/imagekit/models.py   \n",
       "4  django-imagekit   src/imagekit/tests.py   src/imagekit/tests.py   \n",
       "\n",
       "                                 commit_sha  \\\n",
       "0  37b8b5355f1b85a939ea789ef0b8316776766376   \n",
       "1  0a3f964d180f9f8435451f68a0922b6e198ace9f   \n",
       "2  0a3f964d180f9f8435451f68a0922b6e198ace9f   \n",
       "3  78dfae2daed97967c74b93ba8528b222063fd52f   \n",
       "4  78dfae2daed97967c74b93ba8528b222063fd52f   \n",
       "\n",
       "                          parent_commit_sha     commit_message  \\\n",
       "0  5b069cc289f11fd82c9e7e47d7659875b3e373c9  Updated models.py   \n",
       "1  37b8b5355f1b85a939ea789ef0b8316776766376      Added test.py   \n",
       "2  37b8b5355f1b85a939ea789ef0b8316776766376      Added test.py   \n",
       "3  0a3f964d180f9f8435451f68a0922b6e198ace9f    Added Metaclass   \n",
       "4  0a3f964d180f9f8435451f68a0922b6e198ace9f    Added Metaclass   \n",
       "\n",
       "                                          diff_myers  \\\n",
       "0  diff --git a/src/imagekit/models.py b/src/imag...   \n",
       "1  diff --git a/src/imagekit/models.py b/src/imag...   \n",
       "2  diff --git a/src/imagekit/models.py b/src/imag...   \n",
       "3  diff --git a/src/imagekit/models.py b/src/imag...   \n",
       "4  diff --git a/src/imagekit/models.py b/src/imag...   \n",
       "\n",
       "                                           diff_hist Discrepancy  \n",
       "0  diff --git a/src/imagekit/models.py b/src/imag...          No  \n",
       "1  diff --git a/src/imagekit/models.py b/src/imag...         Yes  \n",
       "2  diff --git a/src/imagekit/models.py b/src/imag...         Yes  \n",
       "3  diff --git a/src/imagekit/models.py b/src/imag...          No  \n",
       "4  diff --git a/src/imagekit/models.py b/src/imag...          No  "
      ]
     },
     "execution_count": 11,
     "metadata": {},
     "output_type": "execute_result"
    }
   ],
   "source": [
    "df.head()"
   ]
  },
  {
   "cell_type": "markdown",
   "id": "a3c25d10",
   "metadata": {},
   "source": [
    "part e"
   ]
  },
  {
   "cell_type": "code",
   "execution_count": null,
   "id": "a87d1582",
   "metadata": {},
   "outputs": [
    {
     "name": "stdout",
     "output_type": "stream",
     "text": [
      "Mismatch Statistics:\n",
      "FileCategory\n",
      "Source Code    346\n",
      "Other          200\n",
      "Test Code       84\n",
      "README          30\n",
      "LICENSE          1\n",
      "Name: count, dtype: int64\n"
     ]
    },
    {
     "name": "stderr",
     "output_type": "stream",
     "text": [
      "/tmp/ipykernel_90420/276019323.py:20: SettingWithCopyWarning: \n",
      "A value is trying to be set on a copy of a slice from a DataFrame.\n",
      "Try using .loc[row_indexer,col_indexer] = value instead\n",
      "\n",
      "See the caveats in the documentation: https://pandas.pydata.org/pandas-docs/stable/user_guide/indexing.html#returning-a-view-versus-a-copy\n",
      "  mismatches[\"FileCategory\"] = mismatches[\"new_file_path\"].apply(categorize_file)\n"
     ]
    },
    {
     "data": {
      "image/png": "[encoded data removed]",
      "text/plain": [
       "<Figure size 600x400 with 1 Axes>"
      ]
     },
     "metadata": {},
     "output_type": "display_data"
    }
   ],
   "source": [
    "import matplotlib.pyplot as plt\n",
    "\n",
    "mismatches = df[df[\"Discrepancy\"] == \"Yes\"]\n",
    "\n",
    "def categorize_file(path):\n",
    "    if not isinstance(path, str):\n",
    "        return \"Other\"\n",
    "    filename = path.lower()\n",
    "    if \"test\" in filename:         \n",
    "        return \"Test Code\"\n",
    "    elif filename.endswith(\".py\") or filename.endswith(\".java\") or filename.endswith(\".cpp\"):\n",
    "        return \"Source Code\"\n",
    "    elif \"readme\" in filename:\n",
    "        return \"README\"\n",
    "    elif \"license\" in filename:\n",
    "        return \"LICENSE\"\n",
    "    else:\n",
    "        return \"Other\"\n",
    "\n",
    "mismatches[\"FileCategory\"] = mismatches[\"new_file_path\"].apply(categorize_file)\n",
    "\n",
    "# Count mismatches per category\n",
    "stats = mismatches[\"FileCategory\"].value_counts()\n",
    "\n",
    "print(\"Mismatch Statistics:\")\n",
    "print(stats)\n",
    "\n",
    "plt.figure(figsize=(6,4))\n",
    "stats.plot(kind=\"bar\", rot=30)\n",
    "plt.title(\"Mismatch Counts by File Category\")\n",
    "plt.xlabel(\"File Category\")\n",
    "plt.ylabel(\"Number of Mismatches\")\n",
    "plt.tight_layout()\n",
    "plt.savefig(\"mismatch_statistics.png\")\n",
    "plt.show()\n"
   ]
  },
  {
   "cell_type": "code",
   "execution_count": null,
   "id": "2709aba0",
   "metadata": {},
   "outputs": [
    {
     "name": "stdout",
     "output_type": "stream",
     "text": [
      "Summary of Discrepancies by File Category:\n",
      "              Total Files  Mismatches  % Discrepancy\n",
      "FileCategory                                        \n",
      "Source Code          3380         346          10.24\n",
      "Other                1301         200          15.37\n",
      "Test Code            1036          84           8.11\n",
      "README                477          30           6.29\n",
      "LICENSE                 9           1          11.11\n"
     ]
    },
    {
     "data": {
      "image/png": "[encoded data removed]",
      "text/plain": [
       "<Figure size 600x400 with 1 Axes>"
      ]
     },
     "metadata": {},
     "output_type": "display_data"
    }
   ],
   "source": [
    "\n",
    "df[\"FileCategory\"] = df[\"new_file_path\"].apply(categorize_file)\n",
    "\n",
    "total_counts = df[\"FileCategory\"].value_counts()\n",
    "\n",
    "mismatch_counts = df[df[\"Discrepancy\"] == \"Yes\"][\"FileCategory\"].value_counts()\n",
    "\n",
    "percent_discrepancy = (mismatch_counts / total_counts * 100).fillna(0)\n",
    "\n",
    "summary = pd.DataFrame({\n",
    "    \"Total Files\": total_counts,\n",
    "    \"Mismatches\": mismatch_counts,\n",
    "    \"% Discrepancy\": percent_discrepancy.round(2)\n",
    "}).fillna(0)\n",
    "\n",
    "print(\"Summary of Discrepancies by File Category:\")\n",
    "print(summary)\n",
    "\n",
    "plt.figure(figsize=(6,4))\n",
    "percent_discrepancy.plot(kind=\"bar\", rot=30)\n",
    "plt.title(\"Percentage of Discrepancies by File Category\")\n",
    "plt.xlabel(\"File Category\")\n",
    "plt.ylabel(\"Discrepancy (%)\")\n",
    "plt.tight_layout()\n",
    "plt.savefig(\"percent_discrepancy.png\")\n",
    "plt.show()\n"
   ]
  }
 ],
 "metadata": {
  "kernelspec": {
   "display_name": "stt",
   "language": "python",
   "name": "python3"
  },
  "language_info": {
   "codemirror_mode": {
    "name": "ipython",
    "version": 3
   },
   "file_extension": ".py",
   "mimetype": "text/x-python",
   "name": "python",
   "nbconvert_exporter": "python",
   "pygments_lexer": "ipython3",
   "version": "3.13.5"
  }
 },
 "nbformat": 4,
 "nbformat_minor": 5
}
